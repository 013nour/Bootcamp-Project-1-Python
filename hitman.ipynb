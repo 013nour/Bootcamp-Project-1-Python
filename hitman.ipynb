{
 "cells": [
  {
   "cell_type": "code",
   "execution_count": 294,
   "id": "c72af466-2d60-4d97-80cb-47d878bf2305",
   "metadata": {
    "tags": []
   },
   "outputs": [],
   "source": [
    "import pygame\n",
    "import random"
   ]
  },
  {
   "cell_type": "markdown",
   "id": "57df3c8f-af62-4fb3-a78e-95bd62df8f97",
   "metadata": {
    "tags": []
   },
   "source": [
    "# Player Class"
   ]
  },
  {
   "cell_type": "code",
   "execution_count": 307,
   "id": "45e601e7-d1a0-4289-8672-85ee797ca6e3",
   "metadata": {
    "tags": []
   },
   "outputs": [],
   "source": [
    "#handel everything related to the player \n",
    "class Player(pygame.sprite.Sprite):\n",
    "    def __init__(self, pos):\n",
    "        super().__init__()\n",
    "        \n",
    "        self.images_Right = []\n",
    "        self.index = 0 #itreate through player images \n",
    "        self.counter = 0 #cooldown the player running\n",
    "        self.speed = 5\n",
    "        \n",
    "        #shooting vars\n",
    "        self.ready = True\n",
    "        self.laser_time = 0\n",
    "        self.laser_cooldown = 600\n",
    "        #self.lasers = pygame.sprite.Group()  \n",
    "        \n",
    "        #upload the pictuers in a stack\n",
    "        for num in range(1,4):\n",
    "            img = pygame.image.load(\"D:/DataScience/Bootcamp-Project-1-Python/Asset/P{}.png\".format(num)).convert_alpha()\n",
    "            self.images_Right.append(img)\n",
    "            \n",
    "        #upload the player image to the screen \n",
    "        self.image = self.images_Right[self.index]\n",
    "        self.rect = self.image.get_rect(midbottom = pos)\n",
    "        \n",
    "      \n",
    "    #######################################################################################################\n",
    "    ###############################          Functions           #########################################\n",
    "    #######################################################################################################\n",
    "        \n",
    "    def get_input(self):\n",
    "        keys = pygame.key.get_pressed()\n",
    "        \n",
    "        #get the movement direction \n",
    "        if keys[pygame.K_UP]:\n",
    "            self.rect.y -= self.speed\n",
    "            self.counter +=1\n",
    "        elif keys[pygame.K_DOWN]:\n",
    "            self.rect.y += self.speed\n",
    "            self.counter +=1\n",
    "        \n",
    "        #got the shooting and guns\n",
    "        if keys[pygame.K_SPACE] and self.ready:\n",
    "            self.shoot_laser()\n",
    "            self.ready = False\n",
    "            self.laser_time = pygame.time.get_ticks()\n",
    "\n",
    "        \n",
    "        #animate the player to make it looks like its running\n",
    "        if self.counter > 10:\n",
    "            self.counter = 0\n",
    "            self.index += 1\n",
    "            if self.index >= 3:\n",
    "                self.index = 0\n",
    "            self.image = self.images_Right[self.index]\n",
    "            \n",
    "    def recharge(self):\n",
    "        if not self.ready:\n",
    "            current_time = pygame.time.get_ticks()\n",
    "            if current_time - self.laser_time >= self.laser_cooldown:\n",
    "                self.ready = True\n",
    "            \n",
    "    def shoot_laser(self):\n",
    "        #self.lasers.add(Laser(self.rect.center, 'player'))\n",
    "        PLaser.add(PlayerLaser(self.rect.center))\n",
    "                  \n",
    "    def constraint(self): \n",
    "        #makesure my player dont go out of the screen \n",
    "        if self.rect.top <= 30:\n",
    "            self.rect.top = 30\n",
    "        if self.rect.bottom >= 500:\n",
    "            self.rect.bottom = 500\n",
    "        \n",
    "    def update(self):\n",
    "        self.get_input()\n",
    "        self.constraint()\n",
    "        self.recharge()\n",
    "        PLaser.update()\n",
    "        \n",
    "        global plyrhealth\n",
    "        global Pboom\n",
    "        if Pboom == True:\n",
    "            self.kill()\n",
    "            explosion = Expload(self.rect.center)\n",
    "            exploasion.add(explosion)"
   ]
  },
  {
   "cell_type": "markdown",
   "id": "0f5689ee-ce40-48ea-9db7-1a8648b63cfe",
   "metadata": {
    "tags": []
   },
   "source": [
    "# Aliens Class"
   ]
  },
  {
   "cell_type": "code",
   "execution_count": 296,
   "id": "45a5f3ce-30b0-4c6d-a0d8-0f1a9f2350dc",
   "metadata": {
    "tags": []
   },
   "outputs": [],
   "source": [
    "class aliens(pygame.sprite.Sprite):\n",
    "    def __init__(self, x, y):\n",
    "        super().__init__()      \n",
    "        self.image = pygame.image.load(\"D:/DataScience/Bootcamp-Project-1-Python/Asset/alien4.png\").convert_alpha()\n",
    "        self.rect = self.image.get_rect()\n",
    "        self.rect.center = [x, y]\n",
    "        self.move_counter = y\n",
    "        self.move_direction = 1\n",
    "        self.shoooot = [True, False, True, False, True, False, False]\n",
    "        \n",
    "        #shooting vars\n",
    "        self.ready = True\n",
    "        self.laser_time = 0\n",
    "        self.laser_cooldown = 2000\n",
    "        \n",
    "    def recharge(self):\n",
    "        \n",
    "        if self.ready: \n",
    "            self.shoot_laser()\n",
    "            self.ready = False\n",
    "            self.laser_time = pygame.time.get_ticks()\n",
    "            \n",
    "        if not self.ready :\n",
    "            current_time = pygame.time.get_ticks()\n",
    "            if current_time - self.laser_time > self.laser_cooldown and self.shoooot[random.randint(0, 6)]:\n",
    "                self.ready = True\n",
    "        \n",
    "    def shoot_laser(self):\n",
    "        ELaser.add(EnemyLaser(self.rect.center))\n",
    "        \n",
    "    def update(self):\n",
    "        self.rect.y -= self.move_direction\n",
    "        self.move_counter += 10\n",
    "        if self.rect.top <= 30 or self.rect.bottom >= 500:\n",
    "            self.move_direction *= -1\n",
    "            self.move_counter *= self.move_direction\n",
    "            \n",
    "        if self.shoooot[random.randint(0, 6)]:    \n",
    "            self.recharge()\n",
    "            \n",
    "        ELaser.update()\n",
    "        \n",
    "        global enehealth\n",
    "        global Eboom\n",
    "        if Eboom == True:\n",
    "            self.kill()\n",
    "            explosion = Expload(self.rect.center)\n",
    "            exploasion.add(explosion)"
   ]
  },
  {
   "cell_type": "markdown",
   "id": "49cb4036-7c10-498e-b681-07e03526c92e",
   "metadata": {
    "tags": []
   },
   "source": [
    "# Player Laser Class"
   ]
  },
  {
   "cell_type": "code",
   "execution_count": 297,
   "id": "a495d3ec-4efb-46a0-98fd-9a518a44bff5",
   "metadata": {
    "tags": []
   },
   "outputs": [],
   "source": [
    "class PlayerLaser(pygame.sprite.Sprite):\n",
    "    def __init__(self,pos):\n",
    "        super().__init__()\n",
    "        \n",
    "        self.image = pygame.image.load(\"D:/DataScience/Bootcamp-Project-1-Python/Asset/bullet.png\").convert_alpha() \n",
    "        self.rect = self.image.get_rect(midbottom = pos)\n",
    "          \n",
    "    def update(self):\n",
    "        #destroy the bullet if it goes out the screen \n",
    "        self.rect.x += 8\n",
    "        if self.rect.bottom > 500:\n",
    "              self.kill()\n",
    "        \n",
    "        #damge the enemy if it was hit by a bullet\n",
    "        global plyrhealth\n",
    "        if pygame.sprite.spritecollide(self, Enemy, False):  \n",
    "            self.kill()\n",
    "            plyrhealth += 1\n",
    "            enemy_health.update(plyrhealth, 'Enemy')\n",
    "            \n",
    "        global Die\n",
    "        if pygame.sprite.spritecollide(self, Slime, False):\n",
    "            self.kill()\n",
    "            Die = True\n",
    "            horsy = Horse((random.randint(100, 600) ,random.randint(30, 400)))\n",
    "            hores.add(horsy)"
   ]
  },
  {
   "cell_type": "markdown",
   "id": "e946d742-f8ea-4a83-aa80-2f12bc938fdd",
   "metadata": {
    "tags": []
   },
   "source": [
    "# Enemy Laser Class"
   ]
  },
  {
   "cell_type": "code",
   "execution_count": 298,
   "id": "50c033de-473f-45d0-81d6-96c4301be35e",
   "metadata": {
    "tags": []
   },
   "outputs": [],
   "source": [
    "class EnemyLaser(pygame.sprite.Sprite):\n",
    "    def __init__(self,pos):\n",
    "        super().__init__()\n",
    "        \n",
    "        self.image = pygame.image.load(\"D:/DataScience/Bootcamp-Project-1-Python/Asset/alien_bullet.png\").convert_alpha()   \n",
    "        self.rect = self.image.get_rect(midbottom = pos)\n",
    "          \n",
    "    def update(self):\n",
    "        #destroy the bullet if it goes out the screen \n",
    "        self.rect.x -= 4\n",
    "        if self.rect.bottom < 0:\n",
    "              self.kill()\n",
    "\n",
    "        #damge the plyer if it was hit by a bullet  \n",
    "        global enehealth\n",
    "        if pygame.sprite.spritecollide(self, player, False):\n",
    "            self.kill()\n",
    "            enehealth += 1\n",
    "            Phealth.update(enehealth,'Player')\n",
    "            \n",
    "        global Die    \n",
    "        if pygame.sprite.spritecollide(self, hores, True):\n",
    "            Phealth.update(enehealth,'Player')\n",
    "            self.kill()\n",
    "            Die = False\n",
    "            slime = Slimey(self.rect.center)\n",
    "            Slime.add(slime)"
   ]
  },
  {
   "cell_type": "markdown",
   "id": "bc9e780c-6cab-4fe4-baf9-9b08efcf874f",
   "metadata": {
    "tags": []
   },
   "source": [
    "# Health Class"
   ]
  },
  {
   "cell_type": "code",
   "execution_count": 299,
   "id": "7533170d-6e8e-463a-ad87-0f32b75a7202",
   "metadata": {
    "tags": []
   },
   "outputs": [],
   "source": [
    "class Health(pygame.sprite.Sprite):\n",
    "    def __init__(self, who):\n",
    "        super().__init__()\n",
    "        self.images = []\n",
    "        self.index = 0 \n",
    "        self.who = who\n",
    "        \n",
    "        #upload the health imgs in a stack\n",
    "        for num in range(1,5):\n",
    "            img = pygame.image.load(\"D:/DataScience/Bootcamp-Project-1-Python/Asset/PH{}.png\".format(num)).convert_alpha()\n",
    "            self.images.append(img)\n",
    "            \n",
    "        #upload the player image to the screen \n",
    "        self.image = self.images[self.index]\n",
    "        \n",
    "        if self.who == 'player':\n",
    "            self.rect = self.image.get_rect(center = (45, 15))\n",
    "        else:\n",
    "            self.rect = self.image.get_rect(center = (655, 15))     \n",
    "        \n",
    "    def update(self, health, who):\n",
    "        global Pboom\n",
    "        global Eboom\n",
    "        if health == 4 and who == 'Player':\n",
    "            Pboom = True \n",
    "        elif health == 4 and who == 'Enemy':   \n",
    "            Eboom = True \n",
    "        else:\n",
    "            self.image = self.images[health]"
   ]
  },
  {
   "cell_type": "markdown",
   "id": "e61d4f27-c5a7-4cb2-98cf-53adbd46c991",
   "metadata": {
    "tags": []
   },
   "source": [
    "# Horse Class"
   ]
  },
  {
   "cell_type": "code",
   "execution_count": 300,
   "id": "936c39f6-79a0-430e-9410-ac4c642a7e0a",
   "metadata": {
    "tags": []
   },
   "outputs": [],
   "source": [
    "class Horse(pygame.sprite.Sprite):\n",
    "    def __init__(self, pos):\n",
    "        super().__init__()\n",
    "        self.images = []\n",
    "        self.index = 0 \n",
    "        \n",
    "        #upload the health imgs in a stack\n",
    "        for num in range(1,3):\n",
    "            \n",
    "            img = pygame.image.load(\"D:/DataScience/Bootcamp-Project-1-Python/Asset/Horse{}.png\".format(num)).convert_alpha()\n",
    "            self.images.append(img)\n",
    "            \n",
    "        #upload the player image to the screen \n",
    "        self.image = self.images[self.index]\n",
    "        self.rect = self.image.get_rect(center = pos) "
   ]
  },
  {
   "cell_type": "markdown",
   "id": "0aed32dc-bc32-41b6-b053-30b8b4987a00",
   "metadata": {},
   "source": [
    "# Slime class"
   ]
  },
  {
   "cell_type": "code",
   "execution_count": 301,
   "id": "185e461b-edcf-4a10-957a-e7c2938687ce",
   "metadata": {
    "tags": []
   },
   "outputs": [],
   "source": [
    "class Slimey(pygame.sprite.Sprite):\n",
    "    def __init__(self, pos):\n",
    "        super().__init__()\n",
    "        self.imagesWalk = [] \n",
    "        #upload the health imgs in a stack\n",
    "        for num in range(0,4):\n",
    "            \n",
    "            img = pygame.image.load(\"D:/DataScience/Bootcamp-Project-1-Python/Asset/slime{}.png\".format(num)).convert_alpha()\n",
    "            self.imagesWalk.append(img)\n",
    "\n",
    "        #upload the player image to the screen \n",
    "        self.walkindex = 0\n",
    "        self.image = self.imagesWalk[self.walkindex]\n",
    "        self.rect = self.image.get_rect(center = pos)\n",
    "        \n",
    "        \n",
    "        self.Attackindex = 0\n",
    "        self.imagesAttack = [] \n",
    "        for num in range(0,5):\n",
    "            \n",
    "            img = pygame.image.load(\"D:/DataScience/Bootcamp-Project-1-Python/Asset/slime-attack-{}.png\".format(num)).convert_alpha()\n",
    "            self.imagesAttack.append(img)\n",
    "\n",
    "        self.Dieindex = 0\n",
    "        self.imagesDie = [] \n",
    "        for num in range(0,4):\n",
    "            \n",
    "            img = pygame.image.load(\"D:/DataScience/Bootcamp-Project-1-Python/Asset/slime-die-{}.png\".format(num)).convert_alpha()\n",
    "            self.imagesDie.append(img)\n",
    "            \n",
    "        self.move_counter = pos[1]\n",
    "        self.move_direction = 1\n",
    "        self.counter = 0\n",
    "        self.Attackcounter = 0\n",
    "        self.Diecounter = 0\n",
    "        \n",
    "    def update(self):  \n",
    "        if pygame.sprite.spritecollide(self, player, False):\n",
    "            Attcak_speed = 4\n",
    "            \n",
    "            self.Attackcounter += 1\n",
    "            if self.Attackcounter >= Attcak_speed and self.Attackindex < len(self.imagesAttack) -1:\n",
    "                self.Attackcounter = 0\n",
    "                self.Attackindex += 1\n",
    "                self.image = self.imagesAttack[self.Attackindex]\n",
    "\n",
    "            if self.Attackindex >= len(self.imagesAttack) -1 and self.Attackcounter >= Attcak_speed:\n",
    "                self.kill()\n",
    "                global enehealth\n",
    "                enehealth += 1\n",
    "                Phealth.update(enehealth,'Player')\n",
    "        \n",
    "        global Die\n",
    "        if Die == True:\n",
    "            Die_speed = 4\n",
    "            self.Diecounter += 1\n",
    "            if self.Diecounter >= Die_speed and self.Dieindex < len(self.imagesDie) -1:\n",
    "                self.Diecounter = 0\n",
    "                self.Dieindex += 1\n",
    "                self.image = self.imagesDie[self.Dieindex]\n",
    "\n",
    "            if self.Dieindex >= len(self.imagesDie) -1 and self.Diecounter >= Die_speed:\n",
    "                self.kill()\n",
    "            #Die = False \n",
    "\n",
    "        else:\n",
    "            self.rect.x -= self.move_direction\n",
    "            self.move_counter += 10\n",
    "            self.counter += 1\n",
    "            if self.rect.left <= 30 or self.rect.right >= 700:\n",
    "                self.move_direction *= -1\n",
    "                self.move_counter *= self.move_direction\n",
    "                \n",
    "            if self.counter > 10:\n",
    "                self.counter = 0\n",
    "                self.walkindex += 1\n",
    "                if self.walkindex >= len(self.imagesAttack) -1:\n",
    "                    self.walkindex = 0\n",
    "                self.image = self.imagesWalk[self.walkindex]   "
   ]
  },
  {
   "cell_type": "markdown",
   "id": "f8f1422b-7287-4c5b-a96b-d4b38f04d24c",
   "metadata": {
    "tags": []
   },
   "source": [
    "# Expload"
   ]
  },
  {
   "cell_type": "code",
   "execution_count": 302,
   "id": "d1eaee8e-0397-4650-b53b-efeeb55370ab",
   "metadata": {
    "tags": []
   },
   "outputs": [],
   "source": [
    "class Expload(pygame.sprite.Sprite):\n",
    "    def __init__(self, pos):\n",
    "        super().__init__()\n",
    "        self.images = [] \n",
    "        #upload the health imgs in a stack\n",
    "        for num in range(1,6):\n",
    "            \n",
    "            img = pygame.image.load(\"D:/DataScience/Bootcamp-Project-1-Python/Asset/exp{}.png\".format(num)).convert_alpha()\n",
    "            self.images.append(img)\n",
    "\n",
    "        #upload the player image to the screen \n",
    "        self.index = 0\n",
    "        self.image = self.images[self.index]\n",
    "        self.rect = self.image.get_rect(center = pos)\n",
    "        \n",
    "        self.counter = 0\n",
    "        \n",
    "    def update(self):\n",
    "        explod_speed = 3\n",
    "        \n",
    "        self.counter += 1\n",
    "        if self.counter >= explod_speed and self.index < len(self.images) -1:\n",
    "            self.counter = 0\n",
    "            self.index += 1\n",
    "            self.image = self.images[self.index]\n",
    "            \n",
    "        if self.index >= len(self.images) -1 and self.counter >= explod_speed:\n",
    "            self.kill()"
   ]
  },
  {
   "cell_type": "markdown",
   "id": "1df26340-385d-479b-9c5d-e28ac470a776",
   "metadata": {
    "tags": []
   },
   "source": [
    "# Game"
   ]
  },
  {
   "cell_type": "code",
   "execution_count": 303,
   "id": "70dd4b84-f9bd-49e8-b3e0-e996016bda87",
   "metadata": {
    "tags": []
   },
   "outputs": [],
   "source": [
    "#create sprite groups\n",
    "player = pygame.sprite.Group()\n",
    "PLaser = pygame.sprite.Group()\n",
    "Phealth = pygame.sprite.Group()\n",
    "\n",
    "Enemy = pygame.sprite.Group()\n",
    "ELaser = pygame.sprite.Group()\n",
    "enemy_health = pygame.sprite.Group()\n",
    "\n",
    "exploasion = pygame.sprite.Group()\n",
    "hores = pygame.sprite.Group()\n",
    "Slime = pygame.sprite.Group()"
   ]
  },
  {
   "cell_type": "code",
   "execution_count": 304,
   "id": "ad4319a7-3261-4824-87cd-9b23b882cd87",
   "metadata": {
    "tags": []
   },
   "outputs": [],
   "source": [
    "pygame.init()\n",
    "clock = pygame.time.Clock()\n",
    "\n",
    "screen = pygame.display.set_mode((screen_width, screen_height))\n",
    "pygame.display.set_caption('Hitman')\n",
    "\n",
    "#load background\n",
    "bg =  pygame.image.load(\"D:/DataScience/Bootcamp-Project-1-Python/Asset/bg.png\").convert_alpha()\n",
    "def draw_bg():\n",
    "    screen.blit(bg, (0,0))\n",
    "        \n",
    "#create player \n",
    "plyr = Player((30,screen_height/2))\n",
    "player.add(plyr)\n",
    "\n",
    "hlth = Health('player')\n",
    "Phealth.add(hlth)\n",
    "\n",
    "#create Enemy\n",
    "alien = aliens(670, screen_height/2)\n",
    "Enemy.add(alien)\n",
    "\n",
    "enmeyhlth = Health('enemy')\n",
    "enemy_health.add(enmeyhlth)\n",
    "\n",
    "#create horse \n",
    "horsy = Horse((random.randint(100, 600) ,random.randint(100, 400)))\n",
    "hores.add(horsy)"
   ]
  },
  {
   "cell_type": "code",
   "execution_count": 305,
   "id": "611deaf8-dd4b-4487-b2f1-5863021dd780",
   "metadata": {
    "tags": []
   },
   "outputs": [],
   "source": [
    "#frame setup\n",
    "fps = 60\n",
    "\n",
    "#screen setup\n",
    "screen_width = 700\n",
    "screen_height = 500\n",
    "\n",
    "plyrhealth = 0\n",
    "enehealth = 0\n",
    "\n",
    "Pboom = False\n",
    "Eboom = False\n",
    "\n",
    "Die = False"
   ]
  },
  {
   "cell_type": "markdown",
   "id": "20d2960d-90df-4d3d-971b-9e14d0c5cb5c",
   "metadata": {
    "tags": []
   },
   "source": [
    "# main "
   ]
  },
  {
   "cell_type": "code",
   "execution_count": 306,
   "id": "2ba08ac7-dba8-47a3-934a-798c78f80ba7",
   "metadata": {
    "tags": []
   },
   "outputs": [],
   "source": [
    "run = True\n",
    "while run:\n",
    "    \n",
    "    clock.tick(fps)\n",
    "        \n",
    "    #draw bg\n",
    "    draw_bg()\n",
    "    \n",
    "    \n",
    "    #update group\n",
    "    player.update()\n",
    "    Enemy.update()\n",
    "    exploasion.update()\n",
    "    hores.update()\n",
    "    Slime.update()\n",
    "    \n",
    "    #draw sprite groups\n",
    "    player.draw(screen)\n",
    "    PLaser.draw(screen)\n",
    "    Phealth.draw(screen)\n",
    "    \n",
    "    Enemy.draw(screen) \n",
    "    ELaser.draw(screen)  \n",
    "    enemy_health.draw(screen)\n",
    "    \n",
    "    exploasion.draw(screen)\n",
    "    \n",
    "    hores.draw(screen)\n",
    "    Slime.draw(screen)\n",
    "    \n",
    "    #event handeling\n",
    "    for event in pygame.event.get():\n",
    "        if event.type == pygame.QUIT:\n",
    "            run = False\n",
    "            \n",
    "    pygame.display.update()\n",
    "            \n",
    "pygame.quit()             "
   ]
  }
 ],
 "metadata": {
  "kernelspec": {
   "display_name": "Python 3 (ipykernel)",
   "language": "python",
   "name": "python3"
  },
  "language_info": {
   "codemirror_mode": {
    "name": "ipython",
    "version": 3
   },
   "file_extension": ".py",
   "mimetype": "text/x-python",
   "name": "python",
   "nbconvert_exporter": "python",
   "pygments_lexer": "ipython3",
   "version": "3.11.5"
  }
 },
 "nbformat": 4,
 "nbformat_minor": 5
}
